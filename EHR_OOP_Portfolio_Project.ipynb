{
 "cells": [
  {
   "cell_type": "markdown",
   "id": "b21c7048",
   "metadata": {},
   "source": [
    "# 🏥 Electronic Health Record (EHR) System\n",
    "This notebook demonstrates an object-oriented Python implementation of an Electronic Health Record (EHR) system, showcasing the use of inheritance, encapsulation, and object interaction."
   ]
  },
  {
   "cell_type": "markdown",
   "id": "6fca0c97",
   "metadata": {},
   "source": [
    "## 👤 `Person` Class\n",
    "Defines common attributes for any person in the system, such as name, date of birth, and gender."
   ]
  },
  {
   "cell_type": "code",
   "execution_count": 1,
   "id": "75d9ae44",
   "metadata": {},
   "outputs": [],
   "source": [
    "from datetime import datetime\n",
    "\n",
    "class Person:\n",
    "    def __init__(self, first_name, last_name, dob, gender):\n",
    "        self.first_name = first_name\n",
    "        self.last_name = last_name\n",
    "        self.dob = dob\n",
    "        self.gender = gender\n",
    "\n",
    "    @property\n",
    "    def full_name(self):\n",
    "        return f\"{self.first_name} {self.last_name}\"\n",
    "\n",
    "    @property\n",
    "    def age(self):\n",
    "        birth_date = datetime.strptime(self.dob, \"%Y-%m-%d\")\n",
    "        today = datetime.today()\n",
    "        return today.year - birth_date.year - ((today.month, today.day) < (birth_date.month, birth_date.day))"
   ]
  },
  {
   "cell_type": "markdown",
   "id": "c179a76e",
   "metadata": {},
   "source": [
    "## 🧑‍⚕️ `Patient` Class\n",
    "Inherits from `Person`. Adds patient ID, medical history, and visit records."
   ]
  },
  {
   "cell_type": "code",
   "execution_count": 2,
   "id": "d3e75acd",
   "metadata": {},
   "outputs": [],
   "source": [
    "class Patient(Person):\n",
    "    def __init__(self, first_name, last_name, dob, gender, patient_id):\n",
    "        super().__init__(first_name, last_name, dob, gender)\n",
    "        self.patient_id = patient_id\n",
    "        self.medical_history = []\n",
    "        self.visits = []\n",
    "\n",
    "    def add_visit(self, visit):\n",
    "        self.visits.append(visit)\n",
    "\n",
    "    def add_medical_history(self, condition):\n",
    "        self.medical_history.append(condition)\n",
    "\n",
    "    def __str__(self):\n",
    "        return f\"Patient: {self.full_name}, ID: {self.patient_id}, Age: {self.age}\" "
   ]
  },
  {
   "cell_type": "markdown",
   "id": "2eecf8a6",
   "metadata": {},
   "source": [
    "## 🩺 `Doctor` Class\n",
    "Inherits from `Person`. Adds doctor ID and medical specialty."
   ]
  },
  {
   "cell_type": "code",
   "execution_count": 3,
   "id": "2d3aec66",
   "metadata": {},
   "outputs": [],
   "source": [
    "class Doctor(Person):\n",
    "    def __init__(self, first_name, last_name, dob, gender, doctor_id, specialty):\n",
    "        super().__init__(first_name, last_name, dob, gender)\n",
    "        self.doctor_id = doctor_id\n",
    "        self.specialty = specialty\n",
    "\n",
    "    def __str__(self):\n",
    "        return f\"Dr. {self.full_name} ({self.specialty})\" "
   ]
  },
  {
   "cell_type": "markdown",
   "id": "58646531",
   "metadata": {},
   "source": [
    "## 📅 `Visit` Class\n",
    "Represents a clinical visit, linking patient, doctor, diagnosis, and prescriptions."
   ]
  },
  {
   "cell_type": "code",
   "execution_count": 4,
   "id": "0af8ae80",
   "metadata": {},
   "outputs": [],
   "source": [
    "class Visit:\n",
    "    def __init__(self, patient, doctor, date, reason):\n",
    "        self.patient = patient\n",
    "        self.doctor = doctor\n",
    "        self.date = date\n",
    "        self.reason = reason\n",
    "        self.diagnosis = None\n",
    "        self.prescriptions = []\n",
    "\n",
    "    def add_diagnosis(self, diagnosis):\n",
    "        self.diagnosis = diagnosis\n",
    "\n",
    "    def add_prescription(self, prescription):\n",
    "        self.prescriptions.append(prescription)\n",
    "\n",
    "    def __str__(self):\n",
    "        return f\"Visit on {self.date} - Reason: {self.reason}, Doctor: {self.doctor.full_name}\" "
   ]
  },
  {
   "cell_type": "markdown",
   "id": "c4b95e67",
   "metadata": {},
   "source": [
    "## 💊 `Prescription` Class\n",
    "Holds information about medications prescribed during a visit."
   ]
  },
  {
   "cell_type": "code",
   "execution_count": 5,
   "id": "4b665111",
   "metadata": {},
   "outputs": [],
   "source": [
    "class Prescription:\n",
    "    def __init__(self, medication_name, dosage, frequency, duration):\n",
    "        self.medication_name = medication_name\n",
    "        self.dosage = dosage\n",
    "        self.frequency = frequency\n",
    "        self.duration = duration\n",
    "\n",
    "    def __str__(self):\n",
    "        return f\"{self.medication_name} {self.dosage}, {self.frequency} for {self.duration}\" "
   ]
  },
  {
   "cell_type": "markdown",
   "id": "548c03f1",
   "metadata": {},
   "source": [
    "## 🚀 Demonstration\n",
    "Example usage of the system with patient, doctor, visit, and prescriptions."
   ]
  },
  {
   "cell_type": "code",
   "execution_count": 7,
   "id": "8bc37b19",
   "metadata": {},
   "outputs": [
    {
     "name": "stdout",
     "output_type": "stream",
     "text": [
      "Patient: Robert Leibnitz, ID: P1234, Age: 35\n",
      "Visit on 2025-04-11 - Reason: Chest pain, Doctor: Albert Asimov\n",
      "Diagnosis: Angina\n",
      "Prescriptions:\n",
      " - Aspirin 75mg, once daily for 30 days\n",
      " - Nitroglycerin 0.4mg, as needed for as needed\n"
     ]
    }
   ],
   "source": [
    "# Create doctor and patient\n",
    "doctor = Doctor(\"Albert\", \"Asimov\", \"1975-09-10\", \"Female\", \"D1001\", \"Cardiologist\")\n",
    "patient = Patient(\"Robert\", \"Leibnitz\", \"1990-03-25\", \"Male\", \"P1234\")\n",
    "\n",
    "# Record a visit\n",
    "visit = Visit(patient, doctor, \"2025-04-11\", \"Chest pain\")\n",
    "visit.add_diagnosis(\"Angina\")\n",
    "visit.add_prescription(Prescription(\"Aspirin\", \"75mg\", \"once daily\", \"30 days\"))\n",
    "visit.add_prescription(Prescription(\"Nitroglycerin\", \"0.4mg\", \"as needed\", \"as needed\"))\n",
    "\n",
    "# Update patient's record\n",
    "patient.add_visit(visit)\n",
    "patient.add_medical_history(\"Hypertension\")\n",
    "\n",
    "# Output summary\n",
    "print(patient)\n",
    "for v in patient.visits:\n",
    "    print(v)\n",
    "    print(f\"Diagnosis: {v.diagnosis}\")\n",
    "    print(\"Prescriptions:\")\n",
    "    for p in v.prescriptions:\n",
    "        print(\" -\", p)"
   ]
  }
 ],
 "metadata": {
  "kernelspec": {
   "display_name": "base",
   "language": "python",
   "name": "python3"
  },
  "language_info": {
   "codemirror_mode": {
    "name": "ipython",
    "version": 3
   },
   "file_extension": ".py",
   "mimetype": "text/x-python",
   "name": "python",
   "nbconvert_exporter": "python",
   "pygments_lexer": "ipython3",
   "version": "3.12.7"
  }
 },
 "nbformat": 4,
 "nbformat_minor": 5
}
