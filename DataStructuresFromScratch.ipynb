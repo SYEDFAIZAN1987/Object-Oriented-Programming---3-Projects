{
 "cells": [
  {
   "cell_type": "markdown",
   "id": "a56e9485",
   "metadata": {},
   "source": [
    "# Creating my own Data Structure from Scratch in Python \n",
    "### By Syed Faizan\n",
    "### An exercise in Object Oriented Programming "
   ]
  },
  {
   "cell_type": "code",
   "execution_count": 1,
   "id": "85276bde",
   "metadata": {},
   "outputs": [],
   "source": [
    "# Creating our own list in Python\n",
    "import ctypes"
   ]
  },
  {
   "cell_type": "markdown",
   "id": "48e6998e",
   "metadata": {},
   "source": [
    "### Initialize the object and create the functionalities using instance variables and methods"
   ]
  },
  {
   "cell_type": "code",
   "execution_count": 22,
   "id": "b272bf23",
   "metadata": {},
   "outputs": [],
   "source": [
    "class Ourlist():\n",
    "    def __init__(self):\n",
    "        initialcapacity = 1\n",
    "        self.capacity = initialcapacity\n",
    "        self.size = 0\n",
    "        self.array = self.__create_array(self.capacity)\n",
    "\n",
    "    def __create_array(self, capacity):\n",
    "        return (capacity * ctypes.py_object)() #instantiate the array types using ctypes\n",
    "    \n",
    "    def __resize(self, new_capacity):\n",
    "        new_array = self.__create_array(new_capacity)\n",
    "        for i in range(self.size):\n",
    "            new_array[i] = self.array[i]\n",
    "\n",
    "        self.array = new_array\n",
    "        self.capacity = new_capacity\n",
    "\n",
    "    def append(self, item):\n",
    "        if self.size == self.capacity:\n",
    "            self.__resize(2*self.capacity)\n",
    "\n",
    "        self.array[self.size] = item\n",
    "        self.size += 1\n",
    "\n",
    "    def __len__(self):\n",
    "        return self.size\n",
    "    \n",
    "    def __str__(self):\n",
    "        output = ''\n",
    "        for i in range(self.size):\n",
    "            output = output + str(self.array[i]) + ','\n",
    "\n",
    "        return '[' + output[:-1] + ']'\n",
    "        \n",
    "    def pop(self):\n",
    "        if(self.size == 0):\n",
    "            return ('Empty List , IndexError: pop from empty list')\n",
    "\n",
    "        \n",
    "        popped_item = self.array[self.size-1]\n",
    "        self.size = self.size -1\n",
    "        return popped_item\n",
    "\n",
    "    def __getitem__(self,index):\n",
    "        if(index >=0 and index < self.size):\n",
    "            return self.array[index]\n",
    "        else:\n",
    "            return \"Index Error : Invalid index\"\n",
    "        \n",
    "    def clear(self):\n",
    "        self.size=0\n",
    "\n",
    "    def insert(self,position,element):\n",
    "        # Position will  be inside only\n",
    "        if(self.size == self.capacity):\n",
    "            self.__resize(2*self.capacity)\n",
    "        \n",
    "        for index in range(self.size,position,-1): \n",
    "            self.array[index] = self.array[index-1]\n",
    "        \n",
    "        self.array[position] = element\n",
    "        self.size +=1\n",
    "\n",
    "    def remove(self,element):\n",
    "        found = False\n",
    "        for i in range(self.size):\n",
    "            if self.array[i] == element:\n",
    "                found = True\n",
    "                for j in range(i, self.size - 1):\n",
    "                    self.array[j] = self.array[j + 1]\n",
    "                    self.array[self.size - 1] = None  # Optional: Clear last slot\n",
    "                self.size -= 1\n",
    "                break\n",
    "        \n",
    "        if not found:\n",
    "            raise ValueError(f\"{element} not found in list\")\n"
   ]
  },
  {
   "cell_type": "markdown",
   "id": "6ccce66f",
   "metadata": {},
   "source": [
    "## Testing the List "
   ]
  },
  {
   "cell_type": "code",
   "execution_count": 25,
   "id": "1eae401e",
   "metadata": {},
   "outputs": [
    {
     "name": "stdout",
     "output_type": "stream",
     "text": [
      "[1,2,3,4]\n",
      "[1,100,2,3,4]\n",
      "[1,100,2,4]\n"
     ]
    }
   ],
   "source": [
    "myList = Ourlist()\n",
    "myList.append(1)\n",
    "myList.append(2)\n",
    "myList.append(3)\n",
    "myList.append(4)\n",
    "print(myList)\n",
    "myList.insert(1,100)\n",
    "print(myList)\n",
    "myList.remove(3)\n",
    "print(myList)\n"
   ]
  },
  {
   "cell_type": "markdown",
   "id": "f84ffbed",
   "metadata": {},
   "source": [
    "### Creating a complex number Class in Python "
   ]
  },
  {
   "cell_type": "code",
   "execution_count": 26,
   "id": "73da6daa",
   "metadata": {},
   "outputs": [],
   "source": [
    "class ComplexNumber:\n",
    "    def __init__(self, real, imaginary):\n",
    "        self.real = real\n",
    "        self.imaginary = imaginary\n",
    "\n",
    "    def add(self, other):\n",
    "        return ComplexNumber(self.real + other.real, self.imaginary + other.imaginary)\n",
    "\n",
    "    def subtract(self, other):\n",
    "        return ComplexNumber(self.real - other.real, self.imaginary - other.imaginary)\n",
    "\n",
    "    def multiply(self, other):\n",
    "        # (a + bi)(c + di) = (ac - bd) + (ad + bc)i\n",
    "        real_part = self.real * other.real - self.imaginary * other.imaginary\n",
    "        imag_part = self.real * other.imaginary + self.imaginary * other.real\n",
    "        return ComplexNumber(real_part, imag_part)\n",
    "\n",
    "    def __eq__(self, other):\n",
    "        return self.real == other.real and self.imaginary == other.imaginary\n",
    "\n",
    "    def __str__(self):\n",
    "        sign = '+' if self.imaginary >= 0 else '-'\n",
    "        return f\"{self.real} {sign} {abs(self.imaginary)}i\""
   ]
  },
  {
   "cell_type": "markdown",
   "id": "6ea59443",
   "metadata": {},
   "source": [
    "### Testing the Complex Number Code "
   ]
  },
  {
   "cell_type": "code",
   "execution_count": 27,
   "id": "ce2f16db",
   "metadata": {},
   "outputs": [
    {
     "name": "stdout",
     "output_type": "stream",
     "text": [
      "Addition: 4 + 9i\n",
      "Subtraction: 2 - 5i\n",
      "Multiplication: -11 + 23i\n",
      "Equality (c1 == c3): True\n",
      "Equality (c1 == c2): False\n",
      "String representation of c1: 3 + 2i\n",
      "String representation of c2: 1 + 7i\n"
     ]
    }
   ],
   "source": [
    "# Define the class (assume it's already provided above)\n",
    "\n",
    "# Test cases\n",
    "def test_complex_number_operations():\n",
    "    c1 = ComplexNumber(3, 2)\n",
    "    c2 = ComplexNumber(1, 7)\n",
    "\n",
    "    # Addition\n",
    "    result_add = c1.add(c2)\n",
    "    print(\"Addition:\", result_add)  # Expected: 4 + 9i\n",
    "\n",
    "    # Subtraction\n",
    "    result_subtract = c1.subtract(c2)\n",
    "    print(\"Subtraction:\", result_subtract)  # Expected: 2 - 5i\n",
    "\n",
    "    # Multiplication\n",
    "    result_multiply = c1.multiply(c2)\n",
    "    print(\"Multiplication:\", result_multiply)  # Expected: (3*1 - 2*7) + (3*7 + 2*1)i = -11 + 23i\n",
    "\n",
    "    # Equality\n",
    "    c3 = ComplexNumber(3, 2)\n",
    "    print(\"Equality (c1 == c3):\", c1 == c3)  # Expected: True\n",
    "    print(\"Equality (c1 == c2):\", c1 == c2)  # Expected: False\n",
    "\n",
    "    # String Representation\n",
    "    print(\"String representation of c1:\", c1)  # Expected: 3 + 2i\n",
    "    print(\"String representation of c2:\", c2)  # Expected: 1 + 7i\n",
    "\n",
    "# Run the test\n",
    "test_complex_number_operations()\n"
   ]
  },
  {
   "cell_type": "code",
   "execution_count": null,
   "id": "f7707715",
   "metadata": {},
   "outputs": [],
   "source": []
  },
  {
   "cell_type": "code",
   "execution_count": null,
   "id": "67261673",
   "metadata": {},
   "outputs": [],
   "source": []
  },
  {
   "cell_type": "code",
   "execution_count": null,
   "id": "93c888f2",
   "metadata": {},
   "outputs": [],
   "source": []
  },
  {
   "cell_type": "code",
   "execution_count": null,
   "id": "f56ee0a7",
   "metadata": {},
   "outputs": [],
   "source": []
  },
  {
   "cell_type": "code",
   "execution_count": null,
   "id": "03d20308",
   "metadata": {},
   "outputs": [],
   "source": []
  },
  {
   "cell_type": "code",
   "execution_count": null,
   "id": "a9f045d7",
   "metadata": {},
   "outputs": [],
   "source": []
  }
 ],
 "metadata": {
  "kernelspec": {
   "display_name": "base",
   "language": "python",
   "name": "python3"
  },
  "language_info": {
   "codemirror_mode": {
    "name": "ipython",
    "version": 3
   },
   "file_extension": ".py",
   "mimetype": "text/x-python",
   "name": "python",
   "nbconvert_exporter": "python",
   "pygments_lexer": "ipython3",
   "version": "3.12.7"
  }
 },
 "nbformat": 4,
 "nbformat_minor": 5
}
